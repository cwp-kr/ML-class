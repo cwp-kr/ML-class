{
  "nbformat": 4,
  "nbformat_minor": 0,
  "metadata": {
    "colab": {
      "provenance": [],
      "authorship_tag": "ABX9TyOR6rHj3LiGn/RFY9B22dsY",
      "include_colab_link": true
    },
    "kernelspec": {
      "name": "python3",
      "display_name": "Python 3"
    },
    "language_info": {
      "name": "python"
    }
  },
  "cells": [
    {
      "cell_type": "markdown",
      "metadata": {
        "id": "view-in-github",
        "colab_type": "text"
      },
      "source": [
        "<a href=\"https://colab.research.google.com/github/cwp-kr/ML-class/blob/main/11%EC%A3%BC%EC%B0%A8%EA%B3%BC%EC%A0%9C.ipynb\" target=\"_parent\"><img src=\"https://colab.research.google.com/assets/colab-badge.svg\" alt=\"Open In Colab\"/></a>"
      ]
    },
    {
      "cell_type": "code",
      "execution_count": 13,
      "metadata": {
        "id": "qr3ElPQ5yijk"
      },
      "outputs": [],
      "source": [
        "import tensorflow as tf\n",
        "import numpy as np\n",
        "import matplotlib.pyplot as plt"
      ]
    },
    {
      "cell_type": "code",
      "source": [
        "mnist = tf.keras.datasets.mnist\n",
        "\n",
        "(train_x, train_y), (test_x, test_y) = mnist.load_data()\n",
        "\n",
        "train_x, test_x = train_x/255.0, test_x/255.0"
      ],
      "metadata": {
        "colab": {
          "base_uri": "https://localhost:8080/"
        },
        "id": "qhA1aUHW7P-4",
        "outputId": "635e40e7-3124-4c78-df08-44a6a4e553db"
      },
      "execution_count": 14,
      "outputs": [
        {
          "output_type": "stream",
          "name": "stdout",
          "text": [
            "Downloading data from https://storage.googleapis.com/tensorflow/tf-keras-datasets/mnist.npz\n",
            "\u001b[1m11490434/11490434\u001b[0m \u001b[32m━━━━━━━━━━━━━━━━━━━━\u001b[0m\u001b[37m\u001b[0m \u001b[1m1s\u001b[0m 0us/step\n"
          ]
        }
      ]
    },
    {
      "cell_type": "code",
      "source": [
        "train_x.shape"
      ],
      "metadata": {
        "colab": {
          "base_uri": "https://localhost:8080/"
        },
        "id": "yj42t1HP7WPC",
        "outputId": "edd30b4a-fc16-4fdb-b89d-37fbd95e4d96"
      },
      "execution_count": 15,
      "outputs": [
        {
          "output_type": "execute_result",
          "data": {
            "text/plain": [
              "(60000, 28, 28)"
            ]
          },
          "metadata": {},
          "execution_count": 15
        }
      ]
    },
    {
      "cell_type": "code",
      "source": [
        "train_x = train_x.reshape((train_x.shape[0], 28, 28, 1))\n",
        "test_x = test_x.reshape((test_x.shape[0], 28, 28, 1))"
      ],
      "metadata": {
        "id": "V3XecVXv7XpL"
      },
      "execution_count": 16,
      "outputs": []
    },
    {
      "cell_type": "code",
      "source": [
        "train_x.shape"
      ],
      "metadata": {
        "colab": {
          "base_uri": "https://localhost:8080/"
        },
        "id": "vs5m2Qn07aUa",
        "outputId": "b6f5c85b-3ede-4d9b-e804-2b789c8995cd"
      },
      "execution_count": 17,
      "outputs": [
        {
          "output_type": "execute_result",
          "data": {
            "text/plain": [
              "(60000, 28, 28, 1)"
            ]
          },
          "metadata": {},
          "execution_count": 17
        }
      ]
    },
    {
      "cell_type": "code",
      "source": [
        "# input layer\n",
        "input_h = 28   # input height\n",
        "input_w = 28   # input width\n",
        "input_ch = 1   # input channel : Gray scale\n",
        "\n",
        "\n",
        "# 1st convolution layer\n",
        "k1_h = 3\n",
        "k1_w = 3\n",
        "k1_ch = 32\n",
        "p1_h = 2\n",
        "p1_w = 2\n",
        "# (None, 14, 14, 32)\n",
        "\n",
        "# 2nd convolution layer\n",
        "k2_h = 3\n",
        "k2_w = 3\n",
        "k2_ch = 64\n",
        "p2_h = 2\n",
        "p2_w = 2\n",
        "# (None, 7, 7, 64)\n",
        "\n",
        "# Fully connected : flatten the features (7x7x64)\n",
        "conv_result_size = 7*7*64\n",
        "n_hidden = 100\n",
        "n_output = 10 #(0~9)"
      ],
      "metadata": {
        "id": "-X2BE5u47b0b"
      },
      "execution_count": 1,
      "outputs": []
    },
    {
      "cell_type": "code",
      "source": [
        "# Kernel size : [kernel_height, kernel_width, input_ch, output_ch]\n",
        "import tensorflow.compat.v1 as tf\n",
        "tf.disable_v2_behavior()\n",
        "\n",
        "weights = {\n",
        "    'conv1' : tf.Variable(tf.random.normal([k1_h, k1_w, input_ch, k1_ch], stddev = 0.1)),\n",
        "    'conv2' : tf.Variable(tf.random.normal([k2_h, k2_w, k1_ch, k2_ch], stddev = 0.1)),\n",
        "    'hidden' : tf.Variable(tf.random.normal([conv_result_size, n_hidden], stddev = 0.1)),\n",
        "    'output' : tf.Variable(tf.random.normal([n_hidden, n_output], stddev = 0.1))\n",
        "}\n",
        "\n",
        "# bias size : [output_ch] or [neuron_size]\n",
        "biases = {\n",
        "    'conv1' : tf.Variable(tf.random.normal([k1_ch], stddev = 0.1)),\n",
        "    'conv2' : tf.Variable(tf.random.normal([k2_ch], stddev = 0.1)),\n",
        "    'hidden' : tf.Variable(tf.random.normal([n_hidden], stddev = 0.1)),\n",
        "    'output' : tf.Variable(tf.random.normal([n_output], stddev = 0.1))\n",
        "}\n",
        "\n",
        "# input layer : [batch_size, image_height, image_width, channels]\n",
        "# output layer : [batch_size, class_size]\n",
        "x = tf.placeholder(shape=[None, input_h, input_w, input_ch], dtype=tf.float32)\n",
        "y = tf.placeholder(shape=[None, n_output], dtype=tf.float32)"
      ],
      "metadata": {
        "id": "a-yrezYo9Zwt"
      },
      "execution_count": null,
      "outputs": []
    },
    {
      "cell_type": "code",
      "source": [
        "def net(x, weights, biases):\n",
        "    # 1st convolution layer\n",
        "    conv1 = tf.nn.conv2d(x, weights['conv1'], strides=[1,1,1,1], padding='SAME')\n",
        "    conv1 = tf.nn.relu(tf.add(conv1, biases['conv1']))\n",
        "    maxp1 = tf.nn.max_pool(conv1, ksize=[1, p1_h, p1_w, 1], strides=[1, p1_h, p1_w, 1], padding='SAME')\n",
        "\n",
        "    # 2nd convolution layer\n",
        "    conv2 = tf.nn.conv2d(maxp1, weights['conv2'], strides=[1,1,1,1], padding='SAME')\n",
        "    conv2 = tf.nn.relu(tf.add(conv2, biases['conv2']))\n",
        "    maxp2 = tf.nn.max_pool(conv2, ksize=[1, p2_h, p2_w, 1], strides=[1, p2_h, p2_w, 1], padding='SAME')\n",
        "\n",
        "    maxp2_flatten = tf.reshape(maxp2, [-1, conv_result_size])\n",
        "\n",
        "    # Fully connected\n",
        "    hidden = tf.add(tf.matmul(maxp2_flatten, weights['hidden']), biases['hidden'])\n",
        "    hidden = tf.nn.relu(hidden)\n",
        "    output = tf.add(tf.matmul(hidden, weights['output']), biases['output'])\n",
        "\n",
        "    return output"
      ],
      "metadata": {
        "id": "m_CX7ziJ9ctC"
      },
      "execution_count": null,
      "outputs": []
    },
    {
      "cell_type": "code",
      "source": [
        "# Loss function\n",
        "\n",
        "LR = 0.0001\n",
        "pred = net(x, weights, biases)\n",
        "loss = tf.nn.softmax_cross_entropy_with_logits(logits = pred, labels=y)\n",
        "loss = tf.reduce_mean(loss)\n",
        "\n",
        "optm = tf.train.AdamOptimizer(learning_rate=LR).minimize(loss)"
      ],
      "metadata": {
        "id": "JwdrgVKuAt-6"
      },
      "execution_count": null,
      "outputs": []
    },
    {
      "cell_type": "code",
      "source": [
        "# Optimization\n",
        "\n",
        "n_batch = 50\n",
        "n_iter = 2500\n",
        "n_prt = 250\n",
        "\n",
        "sess = tf.Session()\n",
        "sess.run(tf.global_variables_initializer())\n",
        "\n",
        "loss_record_train = []\n",
        "loss_record_test = []\n",
        "for epoch in range(n_iter):\n",
        "    batch_indices = np.random.choice(train_x.shape[0], size=n_batch, replace=False)\n",
        "    batch_x = train_x[batch_indices]\n",
        "    batch_y = train_y[batch_indices]\n",
        "    batch_y = tf.keras.utils.to_categorical(batch_y, num_classes=10)\n",
        "\n",
        "    sess.run(optm, feed_dict={x: batch_x, y: batch_y})\n",
        "\n",
        "    if epoch % n_prt == 0:\n",
        "        test_indices = np.random.choice(test_x.shape[0], size=n_batch, replace=False)\n",
        "        test_batch_x = test_x[test_indices]\n",
        "        test_batch_y = test_y[test_indices]\n",
        "        test_batch_y = tf.keras.utils.to_categorical(test_batch_y, num_classes=10)\n",
        "\n",
        "\n",
        "        c1 = sess.run(loss, feed_dict={x: batch_x, y: batch_y})\n",
        "        c2 = sess.run(loss, feed_dict={x: test_batch_x, y: test_batch_y})\n",
        "\n",
        "        loss_record_train.append(c1)\n",
        "        loss_record_test.append(c2)\n",
        "        print(\"Iter : {}\".format(epoch))\n",
        "        print(\"Train Loss : {}\".format(c1))\n",
        "        print(\"Cost : {}\".format(c2))\n",
        "\n",
        "plt.figure(figsize = (10,8))\n",
        "plt.plot(np.arange(len(loss_record_train))*n_prt, loss_record_train, 'r', label = 'Train')\n",
        "plt.plot(np.arange(len(loss_record_test))*n_prt, loss_record_test, 'b', label = 'Test')\n",
        "plt.xlabel('Iteration', fontsize = 15)\n",
        "plt.ylabel('Loss', fontsize = 15)\n",
        "plt.legend(fontsize = 12)\n",
        "plt.ylim([0, np.max(loss_record_train)])\n",
        "plt.show()"
      ],
      "metadata": {
        "colab": {
          "base_uri": "https://localhost:8080/",
          "height": 1000
        },
        "id": "Yl-Om81SAujU",
        "outputId": "8843ae73-1811-444b-ba6b-99cf67a0904a"
      },
      "execution_count": null,
      "outputs": [
        {
          "output_type": "stream",
          "name": "stdout",
          "text": [
            "Iter : 0\n",
            "Train Loss : 2.517491340637207\n",
            "Cost : 2.4938554763793945\n",
            "Iter : 250\n",
            "Train Loss : 0.4163109064102173\n",
            "Cost : 0.5352586507797241\n",
            "Iter : 500\n",
            "Train Loss : 0.4768962860107422\n",
            "Cost : 0.37018704414367676\n",
            "Iter : 750\n",
            "Train Loss : 0.07855644077062607\n",
            "Cost : 0.16466528177261353\n",
            "Iter : 1000\n",
            "Train Loss : 0.17252406477928162\n",
            "Cost : 0.11085478961467743\n",
            "Iter : 1250\n",
            "Train Loss : 0.11034809798002243\n",
            "Cost : 0.05022888258099556\n",
            "Iter : 1500\n",
            "Train Loss : 0.33835604786872864\n",
            "Cost : 0.18286120891571045\n",
            "Iter : 1750\n",
            "Train Loss : 0.12794972956180573\n",
            "Cost : 0.12318416684865952\n",
            "Iter : 2000\n",
            "Train Loss : 0.07626685500144958\n",
            "Cost : 0.15115509927272797\n",
            "Iter : 2250\n",
            "Train Loss : 0.20166487991809845\n",
            "Cost : 0.11559993773698807\n"
          ]
        },
        {
          "output_type": "display_data",
          "data": {
            "text/plain": [
              "<Figure size 1000x800 with 1 Axes>"
            ],
            "image/png": "[encoded data removed]"
          },
          "metadata": {}
        }
      ]
    },
    {
      "cell_type": "code",
      "source": [
        "# Evaluation\n",
        "# Get a random batch of test data\n",
        "test_batch_indices = np.random.choice(test_x.shape[0], size=n_batch, replace=False)\n",
        "test_batch_x = test_x[test_batch_indices]\n",
        "test_batch_y = test_y[test_batch_indices]\n",
        "\n",
        "test_batch_x = test_batch_x.reshape((n_batch, input_h, input_w, input_ch))  # Reshape the batch if needed\n",
        "# Convert labels to one-hot encoding if necessary\n",
        "test_batch_y = tf.keras.utils.to_categorical(test_batch_y, num_classes=10)  # Adjust num_classes if needed\n",
        "\n",
        "my_pred = sess.run(pred, feed_dict={x: test_batch_x.reshape(-1, 28, 28, 1)})\n",
        "my_pred = np.argmax(my_pred, axis=1)\n",
        "\n",
        "labels = np.argmax(test_batch_y, axis=1)\n",
        "\n",
        "accr = np.mean(np.equal(my_pred, labels))\n",
        "print(\"Accuracy : {}\".format(accr*100))"
      ],
      "metadata": {
        "colab": {
          "base_uri": "https://localhost:8080/"
        },
        "id": "U43QIXHgN7z9",
        "outputId": "22ddc605-3291-4b44-a2b8-d2c8d387b17e"
      },
      "execution_count": null,
      "outputs": [
        {
          "output_type": "stream",
          "name": "stdout",
          "text": [
            "Accuracy : 96.0\n"
          ]
        }
      ]
    },
    {
      "cell_type": "code",
      "source": [
        "# Get a random batch of test data\n",
        "n_batch = 1\n",
        "test_batch_indices = np.random.choice(test_x.shape[0], size=n_batch, replace=False)\n",
        "test_batch_x = test_x[test_batch_indices]\n",
        "test_batch_y = test_y[test_batch_indices]\n",
        "\n",
        "test_batch_x = test_batch_x.reshape((n_batch, input_h, input_w, input_ch))  # Reshape the batch if needed\n",
        "# Convert labels to one-hot encoding if necessary\n",
        "test_batch_y = tf.keras.utils.to_categorical(test_batch_y, num_classes=10)  # Adjust num_classes if needed\n",
        "\n",
        "logits = sess.run(tf.nn.softmax(pred), feed_dict={x: test_batch_x.reshape(-1, 28, 28, 1)})\n",
        "predict = np.argmax(logits)\n",
        "\n",
        "plt.figure(figsize = (12, 5))\n",
        "plt.subplot(1,2,1)\n",
        "plt.imshow(test_batch_x.reshape(28, 28), 'gray')\n",
        "plt.axis('off')\n",
        "plt.subplot(1,2,2)\n",
        "plt.stem(logits.ravel())\n",
        "plt.show()\n",
        "\n",
        "np.set_printoptions(precision = 2, suppress = True)\n",
        "print('Prediction : {}'.format(predict))\n",
        "print('Probability : {}'.format(logits.ravel()))"
      ],
      "metadata": {
        "colab": {
          "base_uri": "https://localhost:8080/",
          "height": 482
        },
        "id": "n0QW8dHuTVfC",
        "outputId": "bdb27a26-bc93-47c7-971f-7466e74af3e3"
      },
      "execution_count": null,
      "outputs": [
        {
          "output_type": "display_data",
          "data": {
            "text/plain": [
              "<Figure size 1200x500 with 2 Axes>"
            ],
            "image/png": "[encoded data removed]"
          },
          "metadata": {}
        },
        {
          "output_type": "stream",
          "name": "stdout",
          "text": [
            "Prediction : 8\n",
            "Probability : [0. 0. 0. 0. 0. 0. 0. 0. 1. 0.]\n"
          ]
        }
      ]
    },
    {
      "cell_type": "code",
      "source": [
        "# input layer\n",
        "input_h = 28   # input height\n",
        "input_w = 28   # input width\n",
        "input_ch = 1   # input channel : Gray scale\n",
        "\n",
        "\n",
        "# 1st convolution layer\n",
        "k1_h = 3\n",
        "k1_w = 3\n",
        "k1_ch = 32\n",
        "p1_h = 2\n",
        "p1_w = 2\n",
        "# (None, 14, 14, 32)\n",
        "\n",
        "# 2nd convolution layer\n",
        "k2_h = 3\n",
        "k2_w = 3\n",
        "k2_ch = 64\n",
        "p2_h = 2\n",
        "p2_w = 2\n",
        "# (None, 7, 7, 64)\n",
        "\n",
        "# 3rd convolution layer\n",
        "k3_h = 3\n",
        "k3_w = 3\n",
        "k3_ch = 128\n",
        "p3_h = 2\n",
        "p3_w = 2\n",
        "# (None, 4, 4, 128)\n",
        "\n",
        "# Fully connected : flatten the features (7x7x64)\n",
        "conv_result_size = 4*4*128\n",
        "n_hidden1 = 100\n",
        "n_hidden2 = 625\n",
        "n_output = 10 #(0~9)"
      ],
      "metadata": {
        "id": "Q3Nx4Ns7TYCF"
      },
      "execution_count": 26,
      "outputs": []
    },
    {
      "cell_type": "code",
      "source": [
        "# Kernel size : [kernel_height, kernel_width, input_ch, output_ch]\n",
        "import tensorflow.compat.v1 as tf\n",
        "tf.disable_v2_behavior()\n",
        "\n",
        "weights = {\n",
        "    'conv1' : tf.Variable(tf.random.normal([k1_h, k1_w, input_ch, k1_ch], stddev = 0.1)),\n",
        "    'conv2' : tf.Variable(tf.random.normal([k2_h, k2_w, k1_ch, k2_ch], stddev = 0.1)),\n",
        "    'conv3': tf.Variable(tf.random.normal([k3_h, k3_w, k2_ch, k3_ch], stddev=0.1)),\n",
        "    'hidden1' : tf.Variable(tf.random.normal([conv_result_size, n_hidden1], stddev = 0.1)),\n",
        "    'hidden2': tf.Variable(tf.random.normal([n_hidden1, n_hidden2], stddev=0.1)),\n",
        "    'output' : tf.Variable(tf.random.normal([n_hidden2, n_output], stddev = 0.1))\n",
        "}\n",
        "\n",
        "# bias size : [output_ch] or [neuron_size]\n",
        "biases = {\n",
        "    'conv1' : tf.Variable(tf.random.normal([k1_ch], stddev = 0.1)),\n",
        "    'conv2' : tf.Variable(tf.random.normal([k2_ch], stddev = 0.1)),\n",
        "    'conv3' : tf.Variable(tf.random.normal([k3_ch], stddev = 0.1)),\n",
        "    'hidden1': tf.Variable(tf.random.normal([n_hidden1], stddev=0.1)),\n",
        "    'hidden2': tf.Variable(tf.random.normal([n_hidden2], stddev=0.1)),\n",
        "    'output' : tf.Variable(tf.random.normal([n_output], stddev = 0.1))\n",
        "}\n",
        "\n",
        "# input layer : [batch_size, image_height, image_width, channels]\n",
        "# output layer : [batch_size, class_size]\n",
        "x = tf.placeholder(shape=[None, input_h, input_w, input_ch], dtype=tf.float32)\n",
        "y = tf.placeholder(shape=[None, n_output], dtype=tf.float32)"
      ],
      "metadata": {
        "id": "dR725X7sT5tb"
      },
      "execution_count": 27,
      "outputs": []
    },
    {
      "cell_type": "code",
      "source": [
        "def net(x, weights, biases):\n",
        "    # 1st convolution layer\n",
        "    conv1 = tf.nn.conv2d(x, weights['conv1'], strides=[1,1,1,1], padding='SAME')\n",
        "    conv1 = tf.nn.relu(tf.add(conv1, biases['conv1']))\n",
        "    maxp1 = tf.nn.max_pool(conv1, ksize=[1, p1_h, p1_w, 1], strides=[1, p1_h, p1_w, 1], padding='SAME')\n",
        "\n",
        "    # 2nd convolution layer\n",
        "    conv2 = tf.nn.conv2d(maxp1, weights['conv2'], strides=[1,1,1,1], padding='SAME')\n",
        "    conv2 = tf.nn.relu(tf.add(conv2, biases['conv2']))\n",
        "    maxp2 = tf.nn.max_pool(conv2, ksize=[1, p2_h, p2_w, 1], strides=[1, p2_h, p2_w, 1], padding='SAME')\n",
        "\n",
        "    # 2nd convolution layer\n",
        "    conv3 = tf.nn.conv2d(maxp2, weights['conv3'], strides=[1, 1, 1, 1], padding='SAME')\n",
        "    conv3 = tf.nn.relu(tf.add(conv3, biases['conv3']))\n",
        "    maxp3 = tf.nn.max_pool(conv3, ksize=[1, p3_h, p3_w, 1], strides=[1, p3_h, p3_w, 1], padding='SAME')\n",
        "\n",
        "    maxp2_flatten = tf.reshape(maxp3, [-1, conv_result_size])\n",
        "\n",
        "    # Fully connected\n",
        "    hidden1 = tf.add(tf.matmul(maxp2_flatten, weights['hidden1']), biases['hidden1'])\n",
        "    hidden1 = tf.nn.relu(hidden1)\n",
        "\n",
        "    hidden2 = tf.add(tf.matmul(hidden1, weights['hidden2']), biases['hidden2'])\n",
        "    hidden2 = tf.nn.relu(hidden2)\n",
        "\n",
        "    output = tf.add(tf.matmul(hidden2, weights['output']), biases['output'])\n",
        "\n",
        "    return output"
      ],
      "metadata": {
        "id": "DVmH6adsUhlc"
      },
      "execution_count": 31,
      "outputs": []
    },
    {
      "cell_type": "code",
      "source": [
        "# Loss function\n",
        "\n",
        "LR = 0.0001\n",
        "pred = net(x, weights, biases)\n",
        "loss = tf.nn.softmax_cross_entropy_with_logits(logits = pred, labels=y)\n",
        "loss = tf.reduce_mean(loss)\n",
        "\n",
        "optm = tf.train.AdamOptimizer(learning_rate=LR).minimize(loss)"
      ],
      "metadata": {
        "id": "0gHE1dUiWMR1"
      },
      "execution_count": 32,
      "outputs": []
    },
    {
      "cell_type": "code",
      "source": [
        "# Optimization\n",
        "\n",
        "n_batch = 50\n",
        "n_iter = 2500\n",
        "n_prt = 250\n",
        "\n",
        "sess = tf.Session()\n",
        "sess.run(tf.global_variables_initializer())\n",
        "\n",
        "loss_record_train = []\n",
        "loss_record_test = []\n",
        "for epoch in range(n_iter):\n",
        "    batch_indices = np.random.choice(train_x.shape[0], size=n_batch, replace=False)\n",
        "    batch_x = train_x[batch_indices]\n",
        "    batch_y = train_y[batch_indices]\n",
        "    batch_y = tf.keras.utils.to_categorical(batch_y, num_classes=10)\n",
        "\n",
        "    sess.run(optm, feed_dict={x: batch_x, y: batch_y})\n",
        "\n",
        "    if epoch % n_prt == 0:\n",
        "        test_indices = np.random.choice(test_x.shape[0], size=n_batch, replace=False)\n",
        "        test_batch_x = test_x[test_indices]\n",
        "        test_batch_y = test_y[test_indices]\n",
        "        test_batch_y = tf.keras.utils.to_categorical(test_batch_y, num_classes=10)\n",
        "\n",
        "\n",
        "        c1 = sess.run(loss, feed_dict={x: batch_x, y: batch_y})\n",
        "        c2 = sess.run(loss, feed_dict={x: test_batch_x, y: test_batch_y})\n",
        "\n",
        "        loss_record_train.append(c1)\n",
        "        loss_record_test.append(c2)\n",
        "        print(\"Iter : {}\".format(epoch))\n",
        "        print(\"Train Loss : {}\".format(c1))\n",
        "        print(\"Cost : {}\".format(c2))\n",
        "\n",
        "plt.figure(figsize = (10,8))\n",
        "plt.plot(np.arange(len(loss_record_train))*n_prt, loss_record_train, 'r', label = 'Train')\n",
        "plt.plot(np.arange(len(loss_record_test))*n_prt, loss_record_test, 'b', label = 'Test')\n",
        "plt.xlabel('Iteration', fontsize = 15)\n",
        "plt.ylabel('Loss', fontsize = 15)\n",
        "plt.legend(fontsize = 12)\n",
        "plt.ylim([0, np.max(loss_record_train)])\n",
        "plt.show()"
      ],
      "metadata": {
        "colab": {
          "base_uri": "https://localhost:8080/",
          "height": 1000
        },
        "id": "21Y43RoJWYgt",
        "outputId": "8df7d9c3-92cb-43c3-b751-b9b01b11b440"
      },
      "execution_count": 33,
      "outputs": [
        {
          "output_type": "stream",
          "name": "stdout",
          "text": [
            "Iter : 0\n",
            "Train Loss : 3.012982130050659\n",
            "Cost : 2.7371912002563477\n",
            "Iter : 250\n",
            "Train Loss : 0.25304606556892395\n",
            "Cost : 0.374021977186203\n",
            "Iter : 500\n",
            "Train Loss : 0.2765938341617584\n",
            "Cost : 0.285869300365448\n",
            "Iter : 750\n",
            "Train Loss : 0.28918322920799255\n",
            "Cost : 0.13355126976966858\n",
            "Iter : 1000\n",
            "Train Loss : 0.08877773582935333\n",
            "Cost : 0.29918453097343445\n",
            "Iter : 1250\n",
            "Train Loss : 0.059779081493616104\n",
            "Cost : 0.07115746289491653\n",
            "Iter : 1500\n",
            "Train Loss : 0.08091350644826889\n",
            "Cost : 0.07332737743854523\n",
            "Iter : 1750\n",
            "Train Loss : 0.06520387530326843\n",
            "Cost : 0.18818964064121246\n",
            "Iter : 2000\n",
            "Train Loss : 0.0068311309441924095\n",
            "Cost : 0.07313442975282669\n",
            "Iter : 2250\n",
            "Train Loss : 0.09212197363376617\n",
            "Cost : 0.11367766559123993\n"
          ]
        },
        {
          "output_type": "display_data",
          "data": {
            "text/plain": [
              "<Figure size 1000x800 with 1 Axes>"
            ],
            "image/png": "[encoded data removed]"
          },
          "metadata": {}
        }
      ]
    },
    {
      "cell_type": "code",
      "source": [
        "# Evaluation\n",
        "# Get a random batch of test data\n",
        "test_batch_indices = np.random.choice(test_x.shape[0], size=n_batch, replace=False)\n",
        "test_batch_x = test_x[test_batch_indices]\n",
        "test_batch_y = test_y[test_batch_indices]\n",
        "\n",
        "test_batch_x = test_batch_x.reshape((n_batch, input_h, input_w, input_ch))  # Reshape the batch if needed\n",
        "# Convert labels to one-hot encoding if necessary\n",
        "test_batch_y = tf.keras.utils.to_categorical(test_batch_y, num_classes=10)  # Adjust num_classes if needed\n",
        "\n",
        "my_pred = sess.run(pred, feed_dict={x: test_batch_x.reshape(-1, 28, 28, 1)})\n",
        "my_pred = np.argmax(my_pred, axis=1)\n",
        "\n",
        "labels = np.argmax(test_batch_y, axis=1)\n",
        "\n",
        "accr = np.mean(np.equal(my_pred, labels))\n",
        "print(\"Accuracy : {}\".format(accr*100))"
      ],
      "metadata": {
        "colab": {
          "base_uri": "https://localhost:8080/"
        },
        "id": "fcQe9e36Y5jk",
        "outputId": "f18fa565-6b35-480e-d7d0-6f8cb91f8003"
      },
      "execution_count": 34,
      "outputs": [
        {
          "output_type": "stream",
          "name": "stdout",
          "text": [
            "Accuracy : 100.0\n"
          ]
        }
      ]
    },
    {
      "cell_type": "code",
      "source": [
        "# Get a random batch of test data\n",
        "n_batch = 1\n",
        "test_batch_indices = np.random.choice(test_x.shape[0], size=n_batch, replace=False)\n",
        "test_batch_x = test_x[test_batch_indices]\n",
        "test_batch_y = test_y[test_batch_indices]\n",
        "\n",
        "test_batch_x = test_batch_x.reshape((n_batch, input_h, input_w, input_ch))  # Reshape the batch if needed\n",
        "# Convert labels to one-hot encoding if necessary\n",
        "test_batch_y = tf.keras.utils.to_categorical(test_batch_y, num_classes=10)  # Adjust num_classes if needed\n",
        "\n",
        "logits = sess.run(tf.nn.softmax(pred), feed_dict={x: test_batch_x.reshape(-1, 28, 28, 1)})\n",
        "predict = np.argmax(logits)\n",
        "\n",
        "plt.figure(figsize = (12, 5))\n",
        "plt.subplot(1,2,1)\n",
        "plt.imshow(test_batch_x.reshape(28, 28), 'gray')\n",
        "plt.axis('off')\n",
        "plt.subplot(1,2,2)\n",
        "plt.stem(logits.ravel())\n",
        "plt.show()\n",
        "\n",
        "np.set_printoptions(precision = 2, suppress = True)\n",
        "print('Prediction : {}'.format(predict))\n",
        "print('Probability : {}'.format(logits.ravel()))"
      ],
      "metadata": {
        "colab": {
          "base_uri": "https://localhost:8080/",
          "height": 482
        },
        "id": "FYVL8s76Y9DJ",
        "outputId": "5af8ec54-6d98-4864-b746-aa815752ca83"
      },
      "execution_count": 35,
      "outputs": [
        {
          "output_type": "display_data",
          "data": {
            "text/plain": [
              "<Figure size 1200x500 with 2 Axes>"
            ],
            "image/png": "[encoded data removed]"
          },
          "metadata": {}
        },
        {
          "output_type": "stream",
          "name": "stdout",
          "text": [
            "Prediction : 3\n",
            "Probability : [0. 0. 0. 1. 0. 0. 0. 0. 0. 0.]\n"
          ]
        }
      ]
    },
    {
      "cell_type": "markdown",
      "source": [
        "정확도 96퍼에서 100퍼로 증가했다"
      ],
      "metadata": {
        "id": "brcIQp06ZA6W"
      }
    }
  ]
}